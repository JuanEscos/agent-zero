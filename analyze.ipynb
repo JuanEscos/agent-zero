{
 "cells": [
  {
   "cell_type": "code",
   "execution_count": 1,
   "metadata": {},
   "outputs": [],
   "source": [
    "import gym\n",
    "import os\n",
    "import random\n",
    "import time\n",
    "import cv2\n",
    "import copy\n",
    "import numpy as np\n",
    "import collections\n",
    "import matplotlib.pyplot as plt\n",
    "import json\n",
    "import scipy\n",
    "import argparse\n",
    "from PIL import Image\n",
    "from collections import deque\n",
    "from tqdm import tqdm\n",
    "import ray\n",
    "\n",
    "import torch\n",
    "import torch.nn as nn\n",
    "import torch.nn.functional as F\n",
    "import torch.multiprocessing as mp\n",
    "import torchvision as tv\n",
    "from torch.utils.data import Dataset\n",
    "\n",
    "\n",
    "from src.common.atari_wrappers import wrap_deepmind, make_atari\n",
    "from src.common.utils import LinearSchedule, DataLoaderX, DataPrefetcher, ReplayDataset\n",
    "from src.common.vec_env import ShmemVecEnv, VecEnvWrapper, DummyVecEnv\n",
    "from src.agents.model import NatureCNN"
   ]
  },
  {
   "cell_type": "code",
   "execution_count": 2,
   "metadata": {},
   "outputs": [
    {
     "name": "stderr",
     "output_type": "stream",
     "text": [
      "2020-08-02 20:52:01,427\tINFO resource_spec.py:212 -- Starting Ray with 229.44 GiB memory available for workers and up to 102.34 GiB for objects. You can adjust these settings with ray.init(memory=<bytes>, object_store_memory=<bytes>).\n",
      "2020-08-02 20:52:01,686\tWARNING services.py:923 -- Redis failed to start, retrying now.\n",
      "2020-08-02 20:52:01,967\tINFO services.py:1165 -- View the Ray dashboard at \u001b[1m\u001b[32mlocalhost:8265\u001b[39m\u001b[22m\n"
     ]
    },
    {
     "data": {
      "text/plain": [
       "{'node_ip_address': '192.168.1.154',\n",
       " 'raylet_ip_address': '192.168.1.154',\n",
       " 'redis_address': '192.168.1.154:6379',\n",
       " 'object_store_address': '/tmp/ray/session_2020-08-02_20-52-01_423466_16070/sockets/plasma_store',\n",
       " 'raylet_socket_name': '/tmp/ray/session_2020-08-02_20-52-01_423466_16070/sockets/raylet',\n",
       " 'webui_url': 'localhost:8265',\n",
       " 'session_dir': '/tmp/ray/session_2020-08-02_20-52-01_423466_16070'}"
      ]
     },
     "execution_count": 2,
     "metadata": {},
     "output_type": "execute_result"
    }
   ],
   "source": [
    "ray.init()"
   ]
  },
  {
   "cell_type": "code",
   "execution_count": 3,
   "metadata": {},
   "outputs": [],
   "source": [
    "game = \"Breakout\"\n",
    "\n",
    "device = torch.device('cuda:0')\n",
    "num_env = 8\n",
    "num_actors = 32\n",
    "num_gpus = torch.cuda.device_count()\n",
    "num_cpus = mp.cpu_count()\n",
    "total_steps = int(1e7)\n",
    "epoches = 10\n",
    "update_per_data = 8\n",
    "replay_size = int(1e6)\n",
    "exploration_ratio = 0.1\n",
    "discount = 0.99\n",
    "batch_size = 512\n",
    "base_batch_size = 32\n",
    "lr = 1e-3\n",
    "\n",
    "target_net_update_freq = 250\n",
    "exploration_ratio = 0.2\n",
    "steps_per_epoch = total_steps // epoches \n",
    "replay = deque(maxlen=replay_size)"
   ]
  },
  {
   "cell_type": "code",
   "execution_count": 4,
   "metadata": {},
   "outputs": [],
   "source": [
    "def make_env(game, episode_life=True, clip_rewards=True):\n",
    "    env = make_atari(f'{game}NoFrameskip-v4')\n",
    "    env = wrap_deepmind(env, episode_life=episode_life, clip_rewards=clip_rewards, frame_stack=True, scale=False, transpose_image=True)\n",
    "    return env\n",
    "\n",
    "test_env = make_env(game)\n",
    "state_shape = test_env.observation_space.shape\n",
    "action_shape = test_env.action_space.n\n",
    "epsilon_schedule = LinearSchedule(1.0, 0.01, int(epoches * exploration_ratio)) \n",
    "\n",
    "model = NatureCNN(state_shape[0], action_shape).to(device)\n",
    "model_target = copy.deepcopy(model)\n",
    "optimizer = torch.optim.Adam(model.parameters(), lr)"
   ]
  },
  {
   "cell_type": "code",
   "execution_count": 7,
   "metadata": {},
   "outputs": [],
   "source": [
    "model.load_state_dict(torch.load('ckpt/e2.pth')['model'])\n",
    "model_target = copy.deepcopy(model)"
   ]
  },
  {
   "cell_type": "code",
   "execution_count": 8,
   "metadata": {},
   "outputs": [],
   "source": [
    "@ray.remote\n",
    "def sampler(rank, epsilon, state_dict):\n",
    "    envs = ShmemVecEnv([lambda: make_env(game) for _ in range(num_env)], context='fork')\n",
    "    steps = steps_per_epoch // (num_env * num_actors)\n",
    "    R = np.zeros(num_env)\n",
    "    Rs, Qs = [], []\n",
    "    local_replay = deque(maxlen=replay_size)\n",
    "    model = NatureCNN(state_shape[0], action_shape)\n",
    "    model.load_state_dict(state_dict)\n",
    "    obs = envs.reset()\n",
    "    tic = time.time()\n",
    "    for step in range(steps):\n",
    "        action_random = np.random.randint(0, action_shape, num_env)\n",
    "        st = torch.from_numpy(np.array(obs)).float() / 255.0\n",
    "        qs = model(st)\n",
    "        qs_max, qs_argmax = qs.max(dim=-1)\n",
    "        action_greedy = qs_argmax.tolist()\n",
    "        Qs.append(qs_max.mean().item())\n",
    "        action = [act_grd if p > epsilon else act_rnd for p, act_rnd, act_grd in zip(np.random.rand(num_env), action_random, action_greedy)]\n",
    "\n",
    "        obs_next, reward, done, info = envs.step(action)\n",
    "        for entry in zip(obs, action, reward, obs_next, done):\n",
    "            local_replay.append(entry)\n",
    "        obs = obs_next\n",
    "        R += np.array(reward)\n",
    "        for idx, d in enumerate(done):\n",
    "            if d:\n",
    "                Rs.append(R[idx])\n",
    "                R[idx] = 0\n",
    "    toc = time.time()\n",
    "    envs.close()\n",
    "    print(f\"Rank {rank}, Data Collection Time: {toc - tic}, Speed {steps_per_epoch / (toc - tic)}\")\n",
    "    return local_replay, Rs, Qs"
   ]
  },
  {
   "cell_type": "code",
   "execution_count": 9,
   "metadata": {},
   "outputs": [],
   "source": [
    "# model = torch.nn.DataParallel(model, device_ids=[0,1,2,3])\n",
    "# model_target = torch.nn.DataParallel(model_target, device_ids=[0,1,2,3])\n",
    "# data = torch.randn(batch_size, 4, 84, 84).cuda(), torch.rand(batch_size).mul(4.0).long().cuda(), torch.randn(batch_size).cuda(), torch.randn(batch_size, 4, 84, 84).cuda(), torch.randn(batch_size).cuda()\n",
    "\n",
    "def train(model, model_target):\n",
    "    dataset = ReplayDataset(replay)\n",
    "    dataloader = DataLoaderX(dataset, batch_size=batch_size, shuffle=True, num_workers=4, pin_memory=True)\n",
    "    prefetcher = DataPrefetcher(dataloader, device)\n",
    "    steps = (steps_per_epoch ) // batch_size\n",
    "    Ls = []\n",
    "    model.cuda()\n",
    "    tic = time.time()\n",
    "    for step in range(steps):\n",
    "        try:\n",
    "            data = prefetcher.next()\n",
    "        except:\n",
    "            prefetcher = DataPrefetcher(dataloader, device)\n",
    "            data = prefetcher.next()\n",
    "\n",
    "        states, actions, rewards, next_states, terminals = data\n",
    "        states = states.float() / 255.0\n",
    "        next_states = next_states.float() / 255.0\n",
    "        actions = actions.long()\n",
    "        terminals = terminals.float()\n",
    "        rewards = rewards.float()\n",
    "\n",
    "        with torch.no_grad():\n",
    "            q_next = model_target(next_states)\n",
    "            q_next_online = model(next_states)\n",
    "            q_next = q_next.gather(1, q_next_online.argmax(dim=-1).unsqueeze(-1)).squeeze(-1)\n",
    "            q_target = rewards + discount * (1 - terminals) * q_next\n",
    "\n",
    "        q = model(states).gather(1, actions.unsqueeze(-1)).squeeze(-1)\n",
    "        loss = F.smooth_l1_loss(q, q_target)\n",
    "\n",
    "        optimizer.zero_grad()\n",
    "        loss.backward()\n",
    "        optimizer.step()\n",
    "\n",
    "        Ls.append(loss.item())\n",
    "        if step % target_net_update_freq == 0:\n",
    "            model_target.load_state_dict(model.state_dict())\n",
    "    toc = time.time()\n",
    "    print(\"Loss\", np.mean(Ls), np.std(Ls), np.max(Ls))\n",
    "    print(\"Epoch Time\", toc - tic)\n",
    "    return model, model_target, Ls"
   ]
  },
  {
   "cell_type": "code",
   "execution_count": 10,
   "metadata": {},
   "outputs": [],
   "source": [
    "def test(model):\n",
    "    tic = time.time()\n",
    "    num_test_envs = 8\n",
    "    test_envs = ShmemVecEnv([lambda: make_env(game) for _ in range(num_test_envs)], context='fork')\n",
    "\n",
    "    E = 0\n",
    "    R = np.zeros(num_test_envs)\n",
    "    obs = test_envs.reset()\n",
    "    Rs = []\n",
    "    while True:\n",
    "        obs = torch.from_numpy(np.array(obs)).to(device).float().div(255.0)\n",
    "        action = model(obs).argmax(dim=-1).tolist()\n",
    "        obs_next, reward, done, info = test_envs.step(action)\n",
    "        obs = obs_next\n",
    "        R += np.array(reward)\n",
    "        for idx, d in enumerate(done):\n",
    "            if d:\n",
    "                Rs.append(R[idx])\n",
    "                R[idx] = 0\n",
    "                E += 1\n",
    "        if E > 300:\n",
    "            break\n",
    "    test_envs.close()\n",
    "    toc = time.time()\n",
    "    print(\"Test Reward\", np.mean(Rs), np.std(Rs), np.max(Rs))\n",
    "    print(\"Epoch Time\", toc - tic)\n",
    "    return Rs"
   ]
  },
  {
   "cell_type": "code",
   "execution_count": 11,
   "metadata": {},
   "outputs": [],
   "source": [
    "LLs, QQs, RRs, TRRs = [], [], [], []"
   ]
  },
  {
   "cell_type": "code",
   "execution_count": 12,
   "metadata": {},
   "outputs": [
    {
     "name": "stdout",
     "output_type": "stream",
     "text": [
      "Epoch 2 Epsilon 0.1\n"
     ]
    },
    {
     "name": "stderr",
     "output_type": "stream",
     "text": [
      "/home/bzhou/miniconda3/lib/python3.6/site-packages/torch/storage.py:34: FutureWarning: pickle support for Storage will be removed in 1.5. Use `torch.save` instead\n",
      "  warnings.warn(\"pickle support for Storage will be removed in 1.5. Use `torch.save` instead\", FutureWarning)\n"
     ]
    },
    {
     "name": "stdout",
     "output_type": "stream",
     "text": [
      "\u001b[2m\u001b[36m(pid=16237)\u001b[0m Logging to /tmp/openai-2020-08-02-20-53-01-898921\n",
      "\u001b[2m\u001b[36m(pid=16237)\u001b[0m Creating dummy env object to get spaces\n",
      "\u001b[2m\u001b[36m(pid=16232)\u001b[0m Logging to /tmp/openai-2020-08-02-20-53-01-932782\n",
      "\u001b[2m\u001b[36m(pid=16232)\u001b[0m Creating dummy env object to get spaces\n",
      "\u001b[2m\u001b[36m(pid=16223)\u001b[0m Logging to /tmp/openai-2020-08-02-20-53-01-941590\n",
      "\u001b[2m\u001b[36m(pid=16223)\u001b[0m Creating dummy env object to get spaces\n",
      "\u001b[2m\u001b[36m(pid=16219)\u001b[0m Logging to /tmp/openai-2020-08-02-20-53-01-947381\n",
      "\u001b[2m\u001b[36m(pid=16219)\u001b[0m Creating dummy env object to get spaces\n",
      "\u001b[2m\u001b[36m(pid=16221)\u001b[0m Logging to /tmp/openai-2020-08-02-20-53-01-977353\n",
      "\u001b[2m\u001b[36m(pid=16221)\u001b[0m Creating dummy env object to get spaces\n",
      "\u001b[2m\u001b[36m(pid=16217)\u001b[0m Logging to /tmp/openai-2020-08-02-20-53-01-967172\n",
      "\u001b[2m\u001b[36m(pid=16217)\u001b[0m Creating dummy env object to get spaces\n",
      "\u001b[2m\u001b[36m(pid=16215)\u001b[0m Logging to /tmp/openai-2020-08-02-20-53-01-978058\n",
      "\u001b[2m\u001b[36m(pid=16215)\u001b[0m Creating dummy env object to get spaces\n",
      "\u001b[2m\u001b[36m(pid=16229)\u001b[0m Logging to /tmp/openai-2020-08-02-20-53-01-995344\n",
      "\u001b[2m\u001b[36m(pid=16229)\u001b[0m Creating dummy env object to get spaces\n",
      "\u001b[2m\u001b[36m(pid=16243)\u001b[0m Logging to /tmp/openai-2020-08-02-20-53-02-003617\n",
      "\u001b[2m\u001b[36m(pid=16243)\u001b[0m Creating dummy env object to get spaces\n",
      "\u001b[2m\u001b[36m(pid=16269)\u001b[0m Logging to /tmp/openai-2020-08-02-20-53-01-965740\n",
      "\u001b[2m\u001b[36m(pid=16269)\u001b[0m Creating dummy env object to get spaces\n",
      "\u001b[2m\u001b[36m(pid=16254)\u001b[0m Logging to /tmp/openai-2020-08-02-20-53-01-986306\n",
      "\u001b[2m\u001b[36m(pid=16254)\u001b[0m Creating dummy env object to get spaces\n",
      "\u001b[2m\u001b[36m(pid=16266)\u001b[0m Logging to /tmp/openai-2020-08-02-20-53-01-986655\n",
      "\u001b[2m\u001b[36m(pid=16266)\u001b[0m Creating dummy env object to get spaces\n",
      "\u001b[2m\u001b[36m(pid=16250)\u001b[0m Logging to /tmp/openai-2020-08-02-20-53-01-992427\n",
      "\u001b[2m\u001b[36m(pid=16250)\u001b[0m Creating dummy env object to get spaces\n",
      "\u001b[2m\u001b[36m(pid=16271)\u001b[0m Logging to /tmp/openai-2020-08-02-20-53-02-001376\n",
      "\u001b[2m\u001b[36m(pid=16271)\u001b[0m Creating dummy env object to get spaces\n",
      "\u001b[2m\u001b[36m(pid=16222)\u001b[0m Logging to /tmp/openai-2020-08-02-20-53-02-008995\n",
      "\u001b[2m\u001b[36m(pid=16222)\u001b[0m Creating dummy env object to get spaces\n",
      "\u001b[2m\u001b[36m(pid=16258)\u001b[0m Logging to /tmp/openai-2020-08-02-20-53-02-009391\n",
      "\u001b[2m\u001b[36m(pid=16258)\u001b[0m Creating dummy env object to get spaces\n",
      "\u001b[2m\u001b[36m(pid=16218)\u001b[0m Logging to /tmp/openai-2020-08-02-20-53-02-022143\n",
      "\u001b[2m\u001b[36m(pid=16218)\u001b[0m Creating dummy env object to get spaces\n",
      "\u001b[2m\u001b[36m(pid=16214)\u001b[0m Logging to /tmp/openai-2020-08-02-20-53-02-048428\n",
      "\u001b[2m\u001b[36m(pid=16214)\u001b[0m Creating dummy env object to get spaces\n",
      "\u001b[2m\u001b[36m(pid=16220)\u001b[0m Logging to /tmp/openai-2020-08-02-20-53-02-045293\n",
      "\u001b[2m\u001b[36m(pid=16220)\u001b[0m Creating dummy env object to get spaces\n",
      "\u001b[2m\u001b[36m(pid=16238)\u001b[0m Logging to /tmp/openai-2020-08-02-20-53-02-025303\n",
      "\u001b[2m\u001b[36m(pid=16238)\u001b[0m Creating dummy env object to get spaces\n",
      "\u001b[2m\u001b[36m(pid=16236)\u001b[0m Logging to /tmp/openai-2020-08-02-20-53-02-052497\n",
      "\u001b[2m\u001b[36m(pid=16236)\u001b[0m Creating dummy env object to get spaces\n",
      "\u001b[2m\u001b[36m(pid=16239)\u001b[0m Logging to /tmp/openai-2020-08-02-20-53-02-046680\n",
      "\u001b[2m\u001b[36m(pid=16239)\u001b[0m Creating dummy env object to get spaces\n",
      "\u001b[2m\u001b[36m(pid=16228)\u001b[0m Logging to /tmp/openai-2020-08-02-20-53-02-018132\n",
      "\u001b[2m\u001b[36m(pid=16228)\u001b[0m Creating dummy env object to get spaces\n",
      "\u001b[2m\u001b[36m(pid=16230)\u001b[0m Logging to /tmp/openai-2020-08-02-20-53-02-014904\n",
      "\u001b[2m\u001b[36m(pid=16230)\u001b[0m Creating dummy env object to get spaces\n",
      "\u001b[2m\u001b[36m(pid=16226)\u001b[0m Logging to /tmp/openai-2020-08-02-20-53-02-035686\n",
      "\u001b[2m\u001b[36m(pid=16226)\u001b[0m Creating dummy env object to get spaces\n",
      "\u001b[2m\u001b[36m(pid=16241)\u001b[0m Logging to /tmp/openai-2020-08-02-20-53-02-018846\n",
      "\u001b[2m\u001b[36m(pid=16241)\u001b[0m Creating dummy env object to get spaces\n",
      "\u001b[2m\u001b[36m(pid=16261)\u001b[0m Logging to /tmp/openai-2020-08-02-20-53-02-029500\n",
      "\u001b[2m\u001b[36m(pid=16261)\u001b[0m Creating dummy env object to get spaces\n",
      "\u001b[2m\u001b[36m(pid=16268)\u001b[0m Logging to /tmp/openai-2020-08-02-20-53-02-017620\n",
      "\u001b[2m\u001b[36m(pid=16268)\u001b[0m Creating dummy env object to get spaces\n",
      "\u001b[2m\u001b[36m(pid=16263)\u001b[0m Logging to /tmp/openai-2020-08-02-20-53-02-061837\n",
      "\u001b[2m\u001b[36m(pid=16263)\u001b[0m Creating dummy env object to get spaces\n",
      "\u001b[2m\u001b[36m(pid=16270)\u001b[0m Logging to /tmp/openai-2020-08-02-20-53-02-022382\n",
      "\u001b[2m\u001b[36m(pid=16270)\u001b[0m Creating dummy env object to get spaces\n",
      "\u001b[2m\u001b[36m(pid=16255)\u001b[0m Logging to /tmp/openai-2020-08-02-20-53-02-026945\n",
      "\u001b[2m\u001b[36m(pid=16255)\u001b[0m Creating dummy env object to get spaces\n",
      "\u001b[2m\u001b[36m(pid=16267)\u001b[0m Logging to /tmp/openai-2020-08-02-20-53-02-067362\n",
      "\u001b[2m\u001b[36m(pid=16267)\u001b[0m Creating dummy env object to get spaces\n",
      "\u001b[2m\u001b[36m(pid=16269)\u001b[0m Rank 21, Data Collection Time: 77.19315934181213, Speed 12954.515769616182\n",
      "\u001b[2m\u001b[36m(pid=16236)\u001b[0m Rank 10, Data Collection Time: 76.87302470207214, Speed 13008.464332912408\n",
      "\u001b[2m\u001b[36m(pid=16267)\u001b[0m Rank 5, Data Collection Time: 76.9074399471283, Speed 13002.643186244035\n",
      "\u001b[2m\u001b[36m(pid=16258)\u001b[0m Rank 1, Data Collection Time: 76.82089328765869, Speed 13017.29200486465\n",
      "\u001b[2m\u001b[36m(pid=16217)\u001b[0m Rank 30, Data Collection Time: 77.61067771911621, Speed 12884.824993013699\n",
      "\u001b[2m\u001b[36m(pid=16228)\u001b[0m Rank 20, Data Collection Time: 77.50346446037292, Speed 12902.64902301618\n",
      "\u001b[2m\u001b[36m(pid=16223)\u001b[0m Rank 11, Data Collection Time: 77.52264857292175, Speed 12899.4560739156\n",
      "\u001b[2m\u001b[36m(pid=16254)\u001b[0m Rank 3, Data Collection Time: 77.50163722038269, Speed 12902.953226090081\n",
      "\u001b[2m\u001b[36m(pid=16215)\u001b[0m Rank 25, Data Collection Time: 77.81376838684082, Speed 12851.196140876158\n",
      "\u001b[2m\u001b[36m(pid=16250)\u001b[0m Rank 29, Data Collection Time: 77.53988552093506, Speed 12896.588552868177\n",
      "\u001b[2m\u001b[36m(pid=16214)\u001b[0m Rank 26, Data Collection Time: 77.41724562644958, Speed 12917.018577813496\n",
      "\u001b[2m\u001b[36m(pid=16219)\u001b[0m Rank 15, Data Collection Time: 78.13981294631958, Speed 12797.573506951945\n",
      "\u001b[2m\u001b[36m(pid=16238)\u001b[0m Rank 7, Data Collection Time: 77.7279303073883, Speed 12865.388233616026\n",
      "\u001b[2m\u001b[36m(pid=16243)\u001b[0m Rank 28, Data Collection Time: 78.01050138473511, Speed 12818.786987000156\n",
      "\u001b[2m\u001b[36m(pid=16220)\u001b[0m Rank 27, Data Collection Time: 77.74085640907288, Speed 12863.249084085126\n",
      "\u001b[2m\u001b[36m(pid=16237)\u001b[0m Rank 24, Data Collection Time: 77.94255685806274, Speed 12829.961452522652\n",
      "\u001b[2m\u001b[36m(pid=16255)\u001b[0m Rank 4, Data Collection Time: 77.69648599624634, Speed 12870.594946189869\n",
      "\u001b[2m\u001b[36m(pid=16230)\u001b[0m Rank 8, Data Collection Time: 77.87192344665527, Speed 12841.598816870519\n",
      "\u001b[2m\u001b[36m(pid=16266)\u001b[0m Rank 16, Data Collection Time: 77.82075309753418, Speed 12850.04269679428\n",
      "\u001b[2m\u001b[36m(pid=16271)\u001b[0m Rank 19, Data Collection Time: 78.01320052146912, Speed 12818.343476688942\n",
      "\u001b[2m\u001b[36m(pid=16241)\u001b[0m Rank 18, Data Collection Time: 78.1446304321289, Speed 12796.78455794262\n",
      "\u001b[2m\u001b[36m(pid=16229)\u001b[0m Rank 14, Data Collection Time: 78.8493127822876, Speed 12682.418713795514\n",
      "\u001b[2m\u001b[36m(pid=16270)\u001b[0m Rank 23, Data Collection Time: 78.28538680076599, Speed 12773.77606302145\n",
      "\u001b[2m\u001b[36m(pid=16261)\u001b[0m Rank 17, Data Collection Time: 78.41912388801575, Speed 12751.991483965343\n",
      "\u001b[2m\u001b[36m(pid=16218)\u001b[0m Rank 31, Data Collection Time: 78.43082642555237, Speed 12750.088779814323\n",
      "\u001b[2m\u001b[36m(pid=16226)\u001b[0m Rank 12, Data Collection Time: 78.55241703987122, Speed 12730.35302646926\n",
      "\u001b[2m\u001b[36m(pid=16263)\u001b[0m Rank 0, Data Collection Time: 78.64990210533142, Speed 12714.57399477441\n",
      "\u001b[2m\u001b[36m(pid=16239)\u001b[0m Rank 6, Data Collection Time: 79.48333072662354, Speed 12581.254344252618\n",
      "\u001b[2m\u001b[36m(pid=16268)\u001b[0m Rank 2, Data Collection Time: 79.50103282928467, Speed 12578.452938433325\n",
      "\u001b[2m\u001b[36m(pid=16221)\u001b[0m Rank 22, Data Collection Time: 79.83225297927856, Speed 12526.26554657755\n",
      "\u001b[2m\u001b[36m(pid=16222)\u001b[0m Rank 9, Data Collection Time: 80.14347219467163, Speed 12477.622601263904\n",
      "\u001b[2m\u001b[36m(pid=16232)\u001b[0m Rank 13, Data Collection Time: 79.99911952018738, Speed 12500.137576484889\n",
      "Training Reward 5.311837081035215 4.369437174762887 25.0\n",
      "Training Q 2.8676489443531095 0.18608336526272004 3.5767853260040283\n",
      "====================================================================================================\n",
      "                                                                                                    \n",
      "====================================================================================================\n",
      "====================================================================================================\n",
      "                                                                                                    \n",
      "Loss 0.013717425665954063 0.004720673525334344 0.03549777343869209\n",
      "Epoch Time 45.36503291130066\n",
      "Logging to /tmp/openai-2020-08-02-20-55-40-239018\n",
      "Creating dummy env object to get spaces\n",
      "Test Reward 7.485049833887043 4.39010618396488 18.0\n",
      "Epoch Time 63.318241357803345\n",
      "Loss 0.009933105439230937 0.0033833867224079277 0.028509624302387238\n",
      "Epoch Time 46.67463660240173\n",
      "Creating dummy env object to get spaces\n",
      "Test Reward 1.9435215946843853 1.3833848746201072 5.0\n",
      "Epoch Time 24.778652667999268\n",
      "Loss 0.008675425223285151 0.002903221174325122 0.02104533463716507\n",
      "Epoch Time 45.11043691635132\n",
      "Creating dummy env object to get spaces\n",
      "Test Reward 8.667774086378737 9.400780593982905 30.0\n",
      "Epoch Time 68.28823924064636\n",
      "Loss 0.008016024473234363 0.0028362289399477196 0.021230723708868027\n",
      "Epoch Time 43.79185080528259\n",
      "Creating dummy env object to get spaces\n",
      "Test Reward 8.348837209302326 7.26260437005608 28.0\n",
      "Epoch Time 61.97805404663086\n",
      "Loss 0.006852071403124724 0.002478010100109129 0.01898181065917015\n",
      "Epoch Time 44.895782232284546\n",
      "Creating dummy env object to get spaces\n",
      "Test Reward 10.362126245847175 8.376031347059246 28.0\n",
      "Epoch Time 69.00221991539001\n",
      "Loss 0.006538608368949681 0.0023861866492087074 0.01755022443830967\n",
      "Epoch Time 45.2197368144989\n",
      "Creating dummy env object to get spaces\n",
      "Test Reward 3.0564784053156147 1.4398687960595213 7.0\n",
      "Epoch Time 31.488154411315918\n",
      "Loss 0.006226861882927178 0.002311802805679574 0.018707532435655594\n",
      "Epoch Time 45.91837787628174\n",
      "Creating dummy env object to get spaces\n",
      "Test Reward 4.289036544850498 3.2318256571787245 12.0\n",
      "Epoch Time 42.80414390563965\n",
      "Loss 0.005888342635736587 0.0021777989439684437 0.01673058792948723\n",
      "Epoch Time 46.294766664505005\n",
      "Creating dummy env object to get spaces\n",
      "Test Reward 8.259136212624584 7.968748630468836 30.0\n",
      "Epoch Time 68.54465508460999\n",
      "Loss 0.005811118835648183 0.002264120520287702 0.018449343740940094\n",
      "Epoch Time 45.4821457862854\n",
      "Creating dummy env object to get spaces\n",
      "Test Reward 8.877076411960132 8.430771794285347 26.0\n",
      "Epoch Time 70.05860614776611\n",
      "Loss 0.005525831012718124 0.0021049634652767985 0.018304578959941864\n",
      "Epoch Time 47.922558546066284\n",
      "Creating dummy env object to get spaces\n",
      "Test Reward 8.039735099337749 6.333847678930546 21.0\n",
      "Epoch Time 67.45436239242554\n",
      "Loss 0.005591144755599983 0.0020895614818925655 0.016877342015504837\n",
      "Epoch Time 47.14242649078369\n",
      "Creating dummy env object to get spaces\n",
      "Test Reward 4.04983388704319 4.591720300850619 16.0\n",
      "Epoch Time 39.81045937538147\n",
      "Loss 0.0053841001009621026 0.002072446579442166 0.0199417844414711\n",
      "Epoch Time 46.543943643569946\n",
      "Creating dummy env object to get spaces\n",
      "Test Reward 10.365448504983389 8.697538633844369 27.0\n",
      "Epoch Time 81.92458486557007\n",
      "Loss 0.005339446768958142 0.0021401378354584397 0.01640520617365837\n",
      "Epoch Time 45.38618779182434\n",
      "Creating dummy env object to get spaces\n",
      "Test Reward 1.9401993355481728 2.126344474456741 8.0\n",
      "Epoch Time 24.188994646072388\n",
      "Loss 0.005390468431198926 0.002149756596795104 0.01741236075758934\n",
      "Epoch Time 45.47423219680786\n",
      "Creating dummy env object to get spaces\n",
      "Test Reward 8.355481727574752 8.16665358320071 29.0\n",
      "Epoch Time 69.92718434333801\n",
      "Loss 0.004959655186725057 0.001825588205555926 0.014758583158254623\n",
      "Epoch Time 48.06869411468506\n",
      "Creating dummy env object to get spaces\n",
      "Test Reward 0.29042904290429045 0.5279083960954408 2.0\n",
      "Epoch Time 11.973967552185059\n",
      "Loss 0.004722867617040254 0.0018078686383601566 0.014781055971980095\n",
      "Epoch Time 47.06456708908081\n",
      "Creating dummy env object to get spaces\n",
      "Test Reward 3.1960132890365447 5.091010648363477 18.0\n",
      "Epoch Time 34.568772077560425\n",
      "                                                                                                    \n",
      "====================================================================================================\n",
      "====================================================================================================\n"
     ]
    }
   ],
   "source": [
    "# Sampling\n",
    "epoch = 2\n",
    "epsilon = 0.1\n",
    "print(\"Epoch\", epoch, \"Epsilon\", epsilon)\n",
    "datas = ray.get([sampler.remote(rank, epsilon, model.cpu().state_dict()) for rank in range(num_actors)])\n",
    "Rs, Qs = [], []\n",
    "for lp, rs, qs in datas:\n",
    "    replay.extend(lp)\n",
    "    Rs += rs\n",
    "    Qs += qs\n",
    "    del lp\n",
    "    del rs\n",
    "    del qs\n",
    "print(\"Training Reward\", np.mean(Rs), np.std(Rs), np.max(Rs))\n",
    "print(\"Training Q\", np.mean(Qs), np.std(Qs), np.max(Qs))\n",
    "RRs += Rs\n",
    "QQs += Qs\n",
    "del datas\n",
    "print(\"=\" * 100)\n",
    "print(\" \" * 100)\n",
    "\n",
    "for epoch in range(1):\n",
    "    print(\"=\" * 100)\n",
    "    print(\"=\" * 100)\n",
    "    print(\" \" * 100)\n",
    "\n",
    "    \n",
    "    for step in range(15):\n",
    "        ## Training\n",
    "        model, model_target, Ls = train(model, model_target)\n",
    "        LLs += Ls\n",
    "        ## Testing\n",
    "        TRs = test(model)\n",
    "        TRRs += TRs\n",
    "    # torch.save({'model': model.state_dict(), 'loss': LLs, 'Train EPR': RRs, 'Test EPR': TRRs}, f'ckpt/e{epoch}.pth')\n",
    "    print(\" \" * 100)\n",
    "    print(\"=\" * 100)\n",
    "    print(\"=\" * 100)\n"
   ]
  },
  {
   "cell_type": "code",
   "execution_count": 32,
   "metadata": {},
   "outputs": [],
   "source": [
    "torch.save({'model': model.state_dict(), 'loss': LLs, 'Train EPR': RRs, 'Test EPR': TRRs}, f'ckpt/e{2}.pth')"
   ]
  },
  {
   "cell_type": "code",
   "execution_count": 15,
   "metadata": {},
   "outputs": [
    {
     "data": {
      "text/plain": [
       "<Figure size 3600x2700 with 0 Axes>"
      ]
     },
     "execution_count": 15,
     "metadata": {},
     "output_type": "execute_result"
    },
    {
     "data": {
      "text/plain": [
       "<Figure size 3600x2700 with 0 Axes>"
      ]
     },
     "metadata": {},
     "output_type": "display_data"
    }
   ],
   "source": [
    "from scipy.signal import savgol_filter\n",
    "plt.style.use('ggplot')\n",
    "plt.figure(figsize=(12, 9), dpi=300)"
   ]
  },
  {
   "cell_type": "code",
   "execution_count": 28,
   "metadata": {},
   "outputs": [
    {
     "data": {
      "text/plain": [
       "999936"
      ]
     },
     "execution_count": 28,
     "metadata": {},
     "output_type": "execute_result"
    }
   ],
   "source": [
    "len(replay)"
   ]
  },
  {
   "cell_type": "code",
   "execution_count": 30,
   "metadata": {},
   "outputs": [
    {
     "data": {
      "text/plain": [
       "[<matplotlib.lines.Line2D at 0x7f112201c8d0>]"
      ]
     },
     "execution_count": 30,
     "metadata": {},
     "output_type": "execute_result"
    },
    {
     "data": {
      "image/png": "[encoded data removed]",
      "text/plain": [
       "<Figure size 432x288 with 1 Axes>"
      ]
     },
     "metadata": {},
     "output_type": "display_data"
    }
   ],
   "source": [
    "# plt.plot(savgol_filter(LLs, 11, 2)[500:])\n",
    "plt.plot(LLs[20000:])"
   ]
  },
  {
   "cell_type": "code",
   "execution_count": 25,
   "metadata": {},
   "outputs": [
    {
     "data": {
      "text/plain": [
       "[<matplotlib.lines.Line2D at 0x7f114f3670b8>]"
      ]
     },
     "execution_count": 25,
     "metadata": {},
     "output_type": "execute_result"
    },
    {
     "data": {
      "image/png": "[encoded data removed]",
      "text/plain": [
       "<Figure size 432x288 with 1 Axes>"
      ]
     },
     "metadata": {},
     "output_type": "display_data"
    }
   ],
   "source": [
    "plt.plot(savgol_filter(RRss + RRs, 101, 2))"
   ]
  },
  {
   "cell_type": "code",
   "execution_count": 18,
   "metadata": {},
   "outputs": [
    {
     "data": {
      "text/plain": [
       "[<matplotlib.lines.Line2D at 0x7f114fd955f8>]"
      ]
     },
     "execution_count": 18,
     "metadata": {},
     "output_type": "execute_result"
    },
    {
     "data": {
      "image/png": "[encoded data removed]",
      "text/plain": [
       "<Figure size 432x288 with 1 Axes>"
      ]
     },
     "metadata": {},
     "output_type": "display_data"
    }
   ],
   "source": [
    "plt.plot(savgol_filter(QQs, 101, 2))"
   ]
  },
  {
   "cell_type": "code",
   "execution_count": 31,
   "metadata": {},
   "outputs": [
    {
     "data": {
      "text/plain": [
       "[<matplotlib.lines.Line2D at 0x7f1121f6f470>]"
      ]
     },
     "execution_count": 31,
     "metadata": {},
     "output_type": "execute_result"
    },
    {
     "data": {
      "image/png": "[encoded data removed]",
      "text/plain": [
       "<Figure size 432x288 with 1 Axes>"
      ]
     },
     "metadata": {},
     "output_type": "display_data"
    }
   ],
   "source": [
    "plt.plot(savgol_filter(TTRss + TRRs, 101, 2))"
   ]
  },
  {
   "cell_type": "code",
   "execution_count": 23,
   "metadata": {},
   "outputs": [],
   "source": [
    "TTRss = torch.load('ckpt/e1.pth')['Test EPR']\n",
    "LLss = torch.load('ckpt/e1.pth')['loss']\n",
    "RRss = torch.load('ckpt/e1.pth')['Train EPR'] "
   ]
  },
  {
   "cell_type": "code",
   "execution_count": null,
   "metadata": {},
   "outputs": [],
   "source": []
  }
 ],
 "metadata": {
  "kernelspec": {
   "display_name": "Python 3",
   "language": "python",
   "name": "python3"
  },
  "language_info": {
   "codemirror_mode": {
    "name": "ipython",
    "version": 3
   },
   "file_extension": ".py",
   "mimetype": "text/x-python",
   "name": "python",
   "nbconvert_exporter": "python",
   "pygments_lexer": "ipython3",
   "version": "3.6.7"
  }
 },
 "nbformat": 4,
 "nbformat_minor": 4
}
